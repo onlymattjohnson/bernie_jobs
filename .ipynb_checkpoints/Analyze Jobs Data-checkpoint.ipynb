{
 "cells": [
  {
   "cell_type": "code",
   "execution_count": 1,
   "metadata": {},
   "outputs": [],
   "source": [
    "# Load libraries\n",
    "import pandas as pd\n",
    "import numpy as np\n",
    "import matplotlib.pyplot as plt\n",
    "plt.style.use('classic')\n",
    "import glob\n",
    "import os\n",
    "import datetime\n",
    "\n",
    "%matplotlib inline\n",
    "\n",
    "run_date = datetime.date.today().strftime(\"%Y-%m-%d\")\n",
    "yesterday = (datetime.date.today() - datetime.timedelta(1)).strftime(\"%Y-%m-%d\")"
   ]
  },
  {
   "cell_type": "code",
   "execution_count": 2,
   "metadata": {},
   "outputs": [],
   "source": [
    "import matplotlib.style as style\n",
    "style.use('fivethirtyeight')"
   ]
  },
  {
   "cell_type": "code",
   "execution_count": 3,
   "metadata": {},
   "outputs": [],
   "source": [
    "# load data\n",
    "all_files = glob.glob('*.csv')\n",
    "li = []\n",
    "\n",
    "for filename in all_files:\n",
    "    df = pd.read_csv(filename, index_col = None, header = 0)\n",
    "    li.append(df)\n",
    "\n",
    "jobs_df = pd.concat(li, axis = 0, ignore_index = True)"
   ]
  },
  {
   "cell_type": "code",
   "execution_count": 4,
   "metadata": {},
   "outputs": [],
   "source": [
    "# Clean up data\n",
    "jobs_df['run_date'] = pd.to_datetime(jobs_df['run_date'])"
   ]
  },
  {
   "cell_type": "markdown",
   "metadata": {},
   "source": [
    "# Compare Today and Yesterday"
   ]
  },
  {
   "cell_type": "code",
   "execution_count": 5,
   "metadata": {},
   "outputs": [
    {
     "name": "stdout",
     "output_type": "stream",
     "text": [
      "There were 55 posts today and 55 posts yesterday\n"
     ]
    }
   ],
   "source": [
    "# Get dataframes for today and yesterday\n",
    "today_posts = jobs_df.loc[jobs_df['run_date'] == run_date]\n",
    "yesterday_posts = jobs_df.loc[jobs_df['run_date'] == yesterday]\n",
    "\n",
    "print(f'There were {today_posts.shape[0]} posts today and {yesterday_posts.shape[0]} posts yesterday')"
   ]
  },
  {
   "cell_type": "markdown",
   "metadata": {},
   "source": [
    "## Jobs that are no longer posted"
   ]
  },
  {
   "cell_type": "code",
   "execution_count": 6,
   "metadata": {},
   "outputs": [
    {
     "name": "stdout",
     "output_type": "stream",
     "text": [
      "There are 0 job postings that were up on 2020-01-29 but no longer exist on 2020-01-30:\n"
     ]
    }
   ],
   "source": [
    "old_posts = set(yesterday_posts.job_id) - set(today_posts.job_id)\n",
    "print(f'There are {len(old_posts)} job postings that were up on {yesterday} but no longer exist on {run_date}:')\n",
    "if len(old_posts) > 0:\n",
    "    display(yesterday_posts.loc[yesterday_posts.job_id.isin(old_posts)])"
   ]
  },
  {
   "cell_type": "markdown",
   "metadata": {},
   "source": [
    "## New jobs as of today"
   ]
  },
  {
   "cell_type": "code",
   "execution_count": 7,
   "metadata": {},
   "outputs": [
    {
     "name": "stdout",
     "output_type": "stream",
     "text": [
      "There are 0 new job postings for 2020-01-30:\n"
     ]
    }
   ],
   "source": [
    "new_posts = set(today_posts.job_id) - set(yesterday_posts.job_id)\n",
    "print(f'There are {len(new_posts)} new job postings for {run_date}:')\n",
    "if len(new_posts) > 0:\n",
    "    display(today_posts.loc[today_posts.job_id.isin(new_posts)])"
   ]
  },
  {
   "cell_type": "code",
   "execution_count": 8,
   "metadata": {},
   "outputs": [
    {
     "data": {
      "text/html": [
       "<div>\n",
       "<style scoped>\n",
       "    .dataframe tbody tr th:only-of-type {\n",
       "        vertical-align: middle;\n",
       "    }\n",
       "\n",
       "    .dataframe tbody tr th {\n",
       "        vertical-align: top;\n",
       "    }\n",
       "\n",
       "    .dataframe thead th {\n",
       "        text-align: right;\n",
       "    }\n",
       "</style>\n",
       "<table border=\"1\" class=\"dataframe\">\n",
       "  <thead>\n",
       "    <tr style=\"text-align: right;\">\n",
       "      <th></th>\n",
       "      <th>job_id</th>\n",
       "    </tr>\n",
       "    <tr>\n",
       "      <th>run_date</th>\n",
       "      <th></th>\n",
       "    </tr>\n",
       "  </thead>\n",
       "  <tbody>\n",
       "    <tr>\n",
       "      <th>2019-11-14</th>\n",
       "      <td>51</td>\n",
       "    </tr>\n",
       "    <tr>\n",
       "      <th>2019-11-15</th>\n",
       "      <td>67</td>\n",
       "    </tr>\n",
       "    <tr>\n",
       "      <th>2019-11-16</th>\n",
       "      <td>68</td>\n",
       "    </tr>\n",
       "    <tr>\n",
       "      <th>2019-11-17</th>\n",
       "      <td>65</td>\n",
       "    </tr>\n",
       "    <tr>\n",
       "      <th>2019-11-18</th>\n",
       "      <td>72</td>\n",
       "    </tr>\n",
       "    <tr>\n",
       "      <th>...</th>\n",
       "      <td>...</td>\n",
       "    </tr>\n",
       "    <tr>\n",
       "      <th>2020-01-24</th>\n",
       "      <td>55</td>\n",
       "    </tr>\n",
       "    <tr>\n",
       "      <th>2020-01-25</th>\n",
       "      <td>55</td>\n",
       "    </tr>\n",
       "    <tr>\n",
       "      <th>2020-01-26</th>\n",
       "      <td>55</td>\n",
       "    </tr>\n",
       "    <tr>\n",
       "      <th>2020-01-28</th>\n",
       "      <td>55</td>\n",
       "    </tr>\n",
       "    <tr>\n",
       "      <th>2020-01-29</th>\n",
       "      <td>55</td>\n",
       "    </tr>\n",
       "  </tbody>\n",
       "</table>\n",
       "<p>76 rows × 1 columns</p>\n",
       "</div>"
      ],
      "text/plain": [
       "            job_id\n",
       "run_date          \n",
       "2019-11-14      51\n",
       "2019-11-15      67\n",
       "2019-11-16      68\n",
       "2019-11-17      65\n",
       "2019-11-18      72\n",
       "...            ...\n",
       "2020-01-24      55\n",
       "2020-01-25      55\n",
       "2020-01-26      55\n",
       "2020-01-28      55\n",
       "2020-01-29      55\n",
       "\n",
       "[76 rows x 1 columns]"
      ]
     },
     "execution_count": 8,
     "metadata": {},
     "output_type": "execute_result"
    }
   ],
   "source": [
    "# Get Count of all jobs by date\n",
    "run_date_counts = jobs_df.groupby('run_date').count()[['job_id']]\n",
    "run_date_counts"
   ]
  },
  {
   "cell_type": "code",
   "execution_count": 9,
   "metadata": {},
   "outputs": [
    {
     "name": "stderr",
     "output_type": "stream",
     "text": [
      "/usr/local/lib/python3.7/site-packages/pandas/plotting/_matplotlib/converter.py:103: FutureWarning: Using an implicitly registered datetime converter for a matplotlib plotting method. The converter was registered by pandas on import. Future versions of pandas will require you to explicitly register matplotlib converters.\n",
      "\n",
      "To register the converters:\n",
      "\t>>> from pandas.plotting import register_matplotlib_converters\n",
      "\t>>> register_matplotlib_converters()\n",
      "  warnings.warn(msg, FutureWarning)\n"
     ]
    },
    {
     "data": {
      "image/png": "[encoded data removed]",
      "text/plain": [
       "<Figure size 432x288 with 1 Axes>"
      ]
     },
     "metadata": {},
     "output_type": "display_data"
    }
   ],
   "source": [
    "import matplotlib.dates as mdates\n",
    "x = run_date_counts.index\n",
    "y = run_date_counts['job_id']\n",
    "plt.gca().xaxis.set_major_formatter(mdates.DateFormatter('%b %d'))\n",
    "\n",
    "# Set major ticks to be every 7 days\n",
    "# https://matplotlib.org/3.1.1/api/dates_api.html#matplotlib.dates.DayLocator\n",
    "plt.gca().xaxis.set_major_locator(mdates.DayLocator(interval = 14))\n",
    "\n",
    "plt.plot(x,y,marker='o')\n",
    "plt.xlabel('Date')\n",
    "plt.ylabel('Job Count')\n",
    "plt.ylim(min(y) * 0.9, max(y) * 1.1)\n",
    "plt.title('Bernie 2020 Jobs by Date')\n",
    "\n",
    "\n",
    "# Save char\n",
    "plt.savefig(run_date + '_JobsByDate.png', bbox_inches = 'tight')\n",
    "plt.show()\n"
   ]
  },
  {
   "cell_type": "code",
   "execution_count": null,
   "metadata": {},
   "outputs": [],
   "source": []
  },
  {
   "cell_type": "code",
   "execution_count": 17,
   "metadata": {},
   "outputs": [],
   "source": []
  },
  {
   "cell_type": "code",
   "execution_count": null,
   "metadata": {},
   "outputs": [],
   "source": []
  }
 ],
 "metadata": {
  "kernelspec": {
   "display_name": "Python 3",
   "language": "python",
   "name": "python3"
  },
  "language_info": {
   "codemirror_mode": {
    "name": "ipython",
    "version": 3
   },
   "file_extension": ".py",
   "mimetype": "text/x-python",
   "name": "python",
   "nbconvert_exporter": "python",
   "pygments_lexer": "ipython3",
   "version": "3.7.4"
  }
 },
 "nbformat": 4,
 "nbformat_minor": 2
}
